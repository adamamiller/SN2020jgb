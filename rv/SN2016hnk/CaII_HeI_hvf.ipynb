{
 "cells": [
  {
   "cell_type": "code",
   "execution_count": 8,
   "metadata": {
    "ExecuteTime": {
     "end_time": "2022-06-19T19:12:42.202824Z",
     "start_time": "2022-06-19T19:12:42.178815Z"
    }
   },
   "outputs": [
    {
     "name": "stdout",
     "output_type": "stream",
     "text": [
      "The autoreload extension is already loaded. To reload it, use:\n",
      "  %reload_ext autoreload\n"
     ]
    }
   ],
   "source": [
    "%load_ext autoreload\n",
    "%autoreload 2"
   ]
  },
  {
   "cell_type": "code",
   "execution_count": 9,
   "metadata": {
    "ExecuteTime": {
     "end_time": "2022-06-19T19:12:45.054948Z",
     "start_time": "2022-06-19T19:12:44.428190Z"
    }
   },
   "outputs": [],
   "source": [
    "import matplotlib.pyplot as plt\n",
    "import matplotlib as mpl\n",
    "from matplotlib.ticker import MultipleLocator\n",
    "import numpy as np\n",
    "import pandas as pd\n",
    "\n",
    "import sys\n",
    "sys.path.append('../../tools')\n",
    "from dust_extinction import calALambda\n",
    "from data_binning import data_binning\n",
    "from visual import rcparams_format\n",
    "\n",
    "rcparams_format(mpl.rcParams)\n",
    "\n",
    "z = 0.016268\n",
    "t_max = 2457689.98\n",
    "t_max_mjd = t_max - 2400000.5\n",
    "ebv = 0.026\n",
    "rv = 3.1"
   ]
  },
  {
   "cell_type": "code",
   "execution_count": 10,
   "metadata": {
    "ExecuteTime": {
     "end_time": "2022-06-19T19:13:12.770018Z",
     "start_time": "2022-06-19T19:13:12.730122Z"
    }
   },
   "outputs": [],
   "source": [
    "color_map = {\n",
    "    'cyan': '#66c2a5',\n",
    "    'orange': '#ff7f00',\n",
    "    'blue': '#8da0cb',\n",
    "    'purple': '#7570b3',\n",
    "    'pink': '#fccde5',\n",
    "    'green': '#33a02c',\n",
    "    'yellow': '#ffd92f',\n",
    "    'brown': '#e5c494',\n",
    "    'magenta': '#f1598a',\n",
    "    'grey': '0.3'\n",
    "}"
   ]
  },
  {
   "cell_type": "code",
   "execution_count": 11,
   "metadata": {
    "ExecuteTime": {
     "end_time": "2022-06-19T19:16:43.934578Z",
     "start_time": "2022-06-19T19:16:43.900022Z"
    }
   },
   "outputs": [],
   "source": [
    "import glob\n",
    "\n",
    "spec_files_0 = glob.glob('../../spectroscopy/SN2016hnk/*dat')\n",
    "spec_files_0.sort()\n",
    "spec_files = [s for s in spec_files_0 if (('NTT' in s) or ('NOT' in s)) and not (('Flamingos' in s) or ('Sofi' in s))]\n",
    "spec_He_files = [s for s in spec_files_0 if (('Flamingos' in s) or ('Sofi' in s))]"
   ]
  },
  {
   "cell_type": "markdown",
   "metadata": {},
   "source": [
    "# Compare Lines"
   ]
  },
  {
   "cell_type": "code",
   "execution_count": 12,
   "metadata": {
    "ExecuteTime": {
     "end_time": "2022-06-19T19:12:52.928305Z",
     "start_time": "2022-06-19T19:12:52.898316Z"
    }
   },
   "outputs": [],
   "source": [
    "def velocity_rf(lambda_rf, lambda_0):\n",
    "    '''convert rest-frame wavelength to relative velocity'''\n",
    "    c = 2.99792458e5\n",
    "    v = c * ((lambda_rf / lambda_0)**2 - 1) / ((lambda_rf / lambda_0)**2 + 1)\n",
    "\n",
    "    return v"
   ]
  },
  {
   "cell_type": "code",
   "execution_count": 59,
   "metadata": {
    "ExecuteTime": {
     "end_time": "2022-06-19T19:38:20.948794Z",
     "start_time": "2022-06-19T19:38:20.909070Z"
    }
   },
   "outputs": [],
   "source": [
    "def compare_lines(spec_files,\n",
    "                  ax,\n",
    "                  line=10830,\n",
    "                  vmax=-30000,\n",
    "                  vmin=0,\n",
    "                  norm_fac=1,\n",
    "                  bin_size=100,\n",
    "                  phase_min=-np.inf,\n",
    "                  phase_max=np.inf,\n",
    "                  col=[],\n",
    "                  instru=[]):\n",
    "    '''Compare the line regions in velocity space\n",
    "    '''\n",
    "\n",
    "    from data_binning import data_binning, plot_box_spec\n",
    "    from astropy.time import Time\n",
    "\n",
    "    spec_num = -1\n",
    "    for spec in spec_files:\n",
    "        if 'P60' in spec:\n",
    "            continue\n",
    "        with open(spec) as f:\n",
    "            ll = f.readlines()\n",
    "        # brute force\n",
    "        mjd_found = False\n",
    "        #print('Warning: MJD-obs not found in {}!'.format(spec))\n",
    "        #print('Try the observation date.')\n",
    "        year = '2016hnk_'\n",
    "        pos_dat = spec.find(str(year)) + len(year)\n",
    "        year_obs = spec[pos_dat:pos_dat + 4]\n",
    "        mon_obs = spec[pos_dat + 5:pos_dat + 7]\n",
    "        date_obs = spec[pos_dat + 8:pos_dat + 10]\n",
    "        mjd_obs = Time('{}-{}-{}'.format(year_obs, mon_obs, date_obs)).mjd\n",
    "        phase = (mjd_obs - t_max_mjd) / (1 + z)\n",
    "        if (phase < phase_min) or (phase > phase_max):\n",
    "            continue\n",
    "        print(spec)\n",
    "        spec_num += 1\n",
    "        spec_df = pd.read_csv(spec,\n",
    "                              comment='#',\n",
    "                              delim_whitespace=True,\n",
    "                              header=None)\n",
    "\n",
    "        wv0, fl0 = spec_df[0].values / (1 + z), spec_df[1].values\n",
    "        try:\n",
    "            fl_unc0 = spec_df[2].values\n",
    "        except:\n",
    "            fl_unc0 = np.ones_like(wv0)\n",
    "        E0 = 10**(0.4 * calALambda(wv0, rv, ebv))\n",
    "        norm = np.nanmedian(fl0[np.abs(wv0 - 8500) < 2500])\n",
    "        fl0 *= E0 / norm\n",
    "        fl_unc0 *= E0 / norm\n",
    "        wv0, fl_unc0 = wv0[~np.isnan(fl0)], fl_unc0[~np.isnan(fl0)]\n",
    "        fl0 = fl0[~np.isnan(fl0)]\n",
    "        vel_rf0 = velocity_rf(wv0, line)\n",
    "\n",
    "        out = data_binning(np.array([vel_rf0, fl0, fl_unc0]).T, size=bin_size)\n",
    "        vel_rf_bin, fl_bin = plot_box_spec(out[:, 0], out[:, 1])\n",
    "        vel_rf, fl = plot_box_spec(vel_rf0, fl0)\n",
    "\n",
    "        if len(col) == 0:\n",
    "            col = np.repeat([None], len(spec_files))\n",
    "\n",
    "        if phase < 0:\n",
    "            label = r'$-{:.0f}\\,\\mathrm d$'.format(np.abs(phase))\n",
    "        else:\n",
    "            label = r'$+{:.0f}\\,\\mathrm d$'.format(np.abs(phase))\n",
    "        print(phase)\n",
    "\n",
    "        h = 0.5 * (phase / 3)**.2\n",
    "        ax.plot(vel_rf_bin[(vel_rf_bin < vmin) & (vel_rf_bin > vmax)] / 1000,\n",
    "                np.log10(fl_bin[(vel_rf_bin < vmin) & (vel_rf_bin > vmax)]) -\n",
    "                spec_num * h * norm_fac,\n",
    "                color=col[spec_num],\n",
    "                linewidth=1.5)\n",
    "        ax.plot(vel_rf[(vel_rf < vmin) & (vel_rf > vmax)] / 1000,\n",
    "                np.log10(fl[(vel_rf < vmin) & (vel_rf > vmax)]) -\n",
    "                spec_num * h * norm_fac,\n",
    "                alpha=0.2,\n",
    "                color=col[spec_num])\n",
    "        vm = vel_rf[(vel_rf < vmin) & (vel_rf > vmax)][-1]\n",
    "        arg = np.abs(vel_rf_bin - vmin + (vmin - vmax) * 0.8) < 5000\n",
    "        if arg.sum() == 0:\n",
    "            arg = [3, 4]\n",
    "        ax.text(vmax / 1000,\n",
    "                np.log10(np.median(fl_bin[arg])) -\n",
    "                spec_num * h * norm_fac - 0.15 * h,\n",
    "                label,\n",
    "                color=col[spec_num],\n",
    "                va='top',\n",
    "                ha='left')\n",
    "        ax.text((vm - (vm - vmax) * 0.12) / 1000,\n",
    "                np.log10(fl[np.argmin(np.abs(vel_rf - vmin))]) -\n",
    "                (spec_num + 0.3) * h * norm_fac,\n",
    "                '${}$'.format(instru[spec_num]),\n",
    "                color=col[spec_num],\n",
    "                va='center')\n",
    "        ax.set_xlim((vmax - (vmin - vmax) * 0.05) / 1000,\n",
    "                    (vmin + (vmin - vmax) * 0.2) / 1000)\n",
    "        ax.set_ylabel(r'$\\log F_\\lambda+ \\mathrm{offset}$')\n",
    "        #plt.fill_between(vel_rf,\n",
    "        #                 fl - fl_unc, fl + fl_unc,\n",
    "        #                 alpha=0.5, color=col[k + displace])\n",
    "    ax.set_xlabel('$v\\ [10^3\\ \\mathrm{km\\,s}^{-1}]$')\n",
    "    #ax.set_yticks([])"
   ]
  },
  {
   "cell_type": "code",
   "execution_count": 60,
   "metadata": {
    "ExecuteTime": {
     "end_time": "2022-06-19T20:19:34.425232Z",
     "start_time": "2022-06-19T20:19:33.835951Z"
    }
   },
   "outputs": [
    {
     "name": "stdout",
     "output_type": "stream",
     "text": [
      "../../spectroscopy/SN2016hnk/2016hnk_2016-11-05_01-59-35.148_ESO-NTT_EFOSC2-NTT_PESSTO.dat\n",
      "7.399622934126261\n",
      "../../spectroscopy/SN2016hnk/2016hnk_2016-11-07_00-05-48.541_NOT_ALFOSC_PESSTO.dat\n",
      "9.367607757027306\n",
      "../../spectroscopy/SN2016hnk/2016hnk_2016-11-07_02-06-58.316_ESO-NTT_EFOSC2-NTT_PESSTO.dat\n",
      "9.367607757027306\n",
      "../../spectroscopy/SN2016hnk/2016hnk_2016-11-04_01-57-23.700_Gemini-S_Flamingos-2_PESSTO.dat\n",
      "6.4156305226757375\n",
      "../../spectroscopy/SN2016hnk/2016hnk_2016-11-06_02-05-03.429_ESO-NTT_Sofi_PESSTO.dat\n",
      "8.383615345576784\n"
     ]
    },
    {
     "data": {
      "image/png": "[encoded data removed]",
      "text/plain": [
       "<Figure size 576x864 with 2 Axes>"
      ]
     },
     "metadata": {
      "needs_background": "light"
     },
     "output_type": "display_data"
    }
   ],
   "source": [
    "fig = plt.figure(figsize=(8, 12))\n",
    "gs = fig.add_gridspec(nrows=3,\n",
    "                      ncols=3,\n",
    "                      left=0.05,\n",
    "                      right=0.75,\n",
    "                      hspace=0,\n",
    "                      wspace=0.05)\n",
    "ax0 = fig.add_subplot(gs[:-1, :])\n",
    "ax1 = fig.add_subplot(gs[-1, :])\n",
    "\n",
    "Ca_II_IRT = (8498.018 + 8542.089 + 8662.140) / 3\n",
    "col_Ca = ['0.3', '0.3', '0.3']\n",
    "instru = [\n",
    "    r'\\mathrm{EFOSC2}', r'\\mathrm{ALFOSC}', r'\\mathrm{EFOSC2}'\n",
    "]\n",
    "compare_lines(spec_files,\n",
    "              ax0,\n",
    "              line=Ca_II_IRT,\n",
    "              vmax=-35000,\n",
    "              vmin=3000,\n",
    "              phase_min=5,\n",
    "              phase_max=10,\n",
    "              norm_fac=1.7,\n",
    "              bin_size=300,\n",
    "              col=col_Ca,\n",
    "              instru=instru)\n",
    "#ax0.set_ylim(-1.7, 0.5)\n",
    "ax0.set_xticks([])\n",
    "ax0.set_xlabel('')\n",
    "ax0.set_yticks([-1.5, -1, -0.5, 0, 0.5])\n",
    "ax0.text(2, -3.24, r'$\\mathbf{Ca\\ \\textsc{ii}\\ IRT}$', ha='center')\n",
    "\n",
    "HeI = 10830\n",
    "col_He = ['0.3', '0.3']\n",
    "instru_He = [r'\\mathrm{Flamingos}', r'\\mathrm{Sofi}']\n",
    "compare_lines(spec_He_files,\n",
    "              ax1,\n",
    "              line=HeI,\n",
    "              vmax=-35000,\n",
    "              vmin=3000,\n",
    "              phase_min=3,\n",
    "              phase_max=9,\n",
    "              norm_fac=1,\n",
    "              bin_size=300,\n",
    "              col=col_He,\n",
    "              instru=instru_He)\n",
    "#ax1.set_ylim(-1.2, 0.4)\n",
    "ax0.set_yticks([])\n",
    "ax1.set_yticks([])\n",
    "ax1.text(2, -1.48, r'$\\mathbf{He\\ \\textsc{i}}\\ \\mathrm{\\lambda 10830}$', ha='center')\n",
    "\n",
    "ax0.set_xlim(-37, 11.5)\n",
    "ax1.set_xlim(-37, 11.5)\n",
    "\n",
    "ax0.axvline(-20.5, color='crimson', linestyle='--', linewidth=5)\n",
    "ax1.axvline(-20.5, color='crimson', linestyle='--', linewidth=5)\n",
    "ax1.xaxis.set_minor_locator(MultipleLocator(2.5))\n",
    "ax1.xaxis.set_major_locator(MultipleLocator(10))\n",
    "\n",
    "ax0.set_title('$\\mathbf{SN\\,2016hnk}$')\n",
    "plt.savefig('CaII_HeI_hvf.pdf', bbox_inches='tight')"
   ]
  },
  {
   "cell_type": "code",
   "execution_count": null,
   "metadata": {},
   "outputs": [],
   "source": []
  }
 ],
 "metadata": {
  "kernelspec": {
   "display_name": "astron",
   "language": "python",
   "name": "astron"
  },
  "language_info": {
   "codemirror_mode": {
    "name": "ipython",
    "version": 3
   },
   "file_extension": ".py",
   "mimetype": "text/x-python",
   "name": "python",
   "nbconvert_exporter": "python",
   "pygments_lexer": "ipython3",
   "version": "3.10.4"
  },
  "latex_envs": {
   "LaTeX_envs_menu_present": true,
   "autoclose": false,
   "autocomplete": true,
   "bibliofile": "biblio.bib",
   "cite_by": "apalike",
   "current_citInitial": 1,
   "eqLabelWithNumbers": true,
   "eqNumInitial": 1,
   "hotkeys": {
    "equation": "Ctrl-E",
    "itemize": "Ctrl-I"
   },
   "labels_anchors": false,
   "latex_user_defs": false,
   "report_style_numbering": false,
   "user_envs_cfg": false
  }
 },
 "nbformat": 4,
 "nbformat_minor": 2
}
