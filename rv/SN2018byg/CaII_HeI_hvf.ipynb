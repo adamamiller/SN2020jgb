{
 "cells": [
  {
   "cell_type": "code",
   "execution_count": 8,
   "metadata": {
    "ExecuteTime": {
     "end_time": "2022-06-19T19:44:57.528468Z",
     "start_time": "2022-06-19T19:44:57.499448Z"
    }
   },
   "outputs": [
    {
     "name": "stdout",
     "output_type": "stream",
     "text": [
      "The autoreload extension is already loaded. To reload it, use:\n",
      "  %reload_ext autoreload\n"
     ]
    }
   ],
   "source": [
    "%load_ext autoreload\n",
    "%autoreload 2"
   ]
  },
  {
   "cell_type": "code",
   "execution_count": 9,
   "metadata": {
    "ExecuteTime": {
     "end_time": "2022-06-19T19:48:20.434704Z",
     "start_time": "2022-06-19T19:48:19.860985Z"
    }
   },
   "outputs": [],
   "source": [
    "import matplotlib.pyplot as plt\n",
    "import matplotlib as mpl\n",
    "from matplotlib.ticker import MultipleLocator\n",
    "import numpy as np\n",
    "import pandas as pd\n",
    "\n",
    "import sys\n",
    "sys.path.append('../../tools')\n",
    "from dust_extinction import calALambda\n",
    "from data_binning import data_binning\n",
    "from visual import rcparams_format\n",
    "\n",
    "rcparams_format(mpl.rcParams)\n",
    "\n",
    "z = 0.066\n",
    "t_max = 2458256.9\n",
    "t_max_mjd = t_max - 2400000.5\n",
    "ebv = 0.032\n",
    "rv = 3.1"
   ]
  },
  {
   "cell_type": "code",
   "execution_count": 10,
   "metadata": {
    "ExecuteTime": {
     "end_time": "2022-06-19T19:58:48.051728Z",
     "start_time": "2022-06-19T19:58:48.016401Z"
    }
   },
   "outputs": [],
   "source": [
    "color_map = {\n",
    "    'cyan': '#66c2a5',\n",
    "    'orange': '#ff7f00',\n",
    "    'blue': '#8da0cb',\n",
    "    'purple': '#7570b3',\n",
    "    'pink': '#fccde5',\n",
    "    'green': '#33a02c',\n",
    "    'yellow': '#ffd92f',\n",
    "    'brown': '#e5c494',\n",
    "    'magenta': '#f1598a',\n",
    "    'grey': '0.3'\n",
    "}"
   ]
  },
  {
   "cell_type": "code",
   "execution_count": 11,
   "metadata": {
    "ExecuteTime": {
     "end_time": "2022-06-19T19:58:48.987060Z",
     "start_time": "2022-06-19T19:58:48.947781Z"
    }
   },
   "outputs": [],
   "source": [
    "import glob\n",
    "\n",
    "spec_files_0 = glob.glob('../../spectroscopy/SN2018byg/*ascii')\n",
    "spec_files_0.sort()\n",
    "spec_files = [s for s in spec_files_0 if not ('20180603' in s)]\n",
    "spec_He_files = [s for s in spec_files_0 if ('20180603' in s)]"
   ]
  },
  {
   "cell_type": "markdown",
   "metadata": {},
   "source": [
    "# Compare Lines"
   ]
  },
  {
   "cell_type": "code",
   "execution_count": 12,
   "metadata": {
    "ExecuteTime": {
     "end_time": "2022-06-19T19:58:50.270411Z",
     "start_time": "2022-06-19T19:58:50.235707Z"
    }
   },
   "outputs": [],
   "source": [
    "def velocity_rf(lambda_rf, lambda_0):\n",
    "    '''convert rest-frame wavelength to relative velocity'''\n",
    "    c = 2.99792458e5\n",
    "    v = c * ((lambda_rf / lambda_0)**2 - 1) / ((lambda_rf / lambda_0)**2 + 1)\n",
    "\n",
    "    return v"
   ]
  },
  {
   "cell_type": "code",
   "execution_count": 40,
   "metadata": {
    "ExecuteTime": {
     "end_time": "2022-06-19T20:29:58.947969Z",
     "start_time": "2022-06-19T20:29:58.907056Z"
    }
   },
   "outputs": [],
   "source": [
    "def compare_lines(spec_files,\n",
    "                  ax,\n",
    "                  line=10830,\n",
    "                  vmax=-30000,\n",
    "                  vmin=0,\n",
    "                  norm_fac=1,\n",
    "                  bin_size=100,\n",
    "                  phase_min=-np.inf,\n",
    "                  phase_max=np.inf,\n",
    "                  instru=[],\n",
    "                  phases=[]):\n",
    "    '''Compare the line regions in velocity space\n",
    "    '''\n",
    "\n",
    "    from data_binning import data_binning, plot_box_spec\n",
    "    from astropy.time import Time\n",
    "\n",
    "    spec_num = -1\n",
    "    for k, spec in enumerate(spec_files):\n",
    "        if 'P60' in spec:\n",
    "            continue\n",
    "        with open(spec) as f:\n",
    "            ll = f.readlines()\n",
    "        # brute force\n",
    "        \n",
    "        phase = phases[k]\n",
    "        if (phase < phase_min) or (phase > phase_max):\n",
    "            continue\n",
    "        spec_df = pd.read_csv(spec,\n",
    "                              comment='#',\n",
    "                              delim_whitespace=True,\n",
    "                              header=None)\n",
    "\n",
    "        if 'Keck' in spec:\n",
    "            try:\n",
    "                fl_unc0 = spec_df[3].values\n",
    "            except:\n",
    "                fl_unc0 = spec_df[2].values\n",
    "        else:\n",
    "            try:\n",
    "                fl_unc0 = spec_df[2].values\n",
    "            except:\n",
    "                fl_unc0 = np.ones_like(spec_df[1])\n",
    "\n",
    "            if 'P60' in spec:\n",
    "                fl_unc0 **= .5\n",
    "\n",
    "        wv0, fl0 = spec_df[0].values / (1 + z), spec_df[1].values\n",
    "        E0 = 10**(0.4 * calALambda(wv0, rv, ebv))\n",
    "        norm = fl0[np.abs(wv0 - 9000) < 500].mean()\n",
    "        fl0 *= E0 / norm\n",
    "        fl_unc0 *= E0 / norm\n",
    "        wv0, fl_unc0 = wv0[~np.isnan(fl0)], fl_unc0[~np.isnan(fl0)]\n",
    "        fl0 = fl0[~np.isnan(fl0)]\n",
    "        vel_rf0 = velocity_rf(wv0, line)\n",
    "\n",
    "        out = data_binning(np.array([vel_rf0, fl0, fl_unc0]).T, size=bin_size)\n",
    "        if len(out) == 0:\n",
    "            continue\n",
    "        out = out[~np.isnan(out[:, 1])]\n",
    "        vel_rf_bin, fl_bin = plot_box_spec(out[:, 0], out[:, 1])\n",
    "        vel_rf, fl = plot_box_spec(vel_rf0, fl0)\n",
    "        fl_unc = np.repeat(fl_unc0, 2)\n",
    "\n",
    "        if phase < 0:\n",
    "            label = r'$-{:.0f}\\,\\mathrm d$'.format(np.abs(phase))\n",
    "        else:\n",
    "            label = r'$+{:.0f}\\,\\mathrm d$'.format(np.abs(phase))\n",
    "        print(phase)\n",
    "\n",
    "        spec_num += 1\n",
    "        h = 0.85\n",
    "        ax.plot(vel_rf_bin[(vel_rf_bin < vmin) & (vel_rf_bin > vmax)] / 1000,\n",
    "                np.log10(fl_bin[(vel_rf_bin < vmin) & (vel_rf_bin > vmax)] /\n",
    "                         norm_fac) - spec_num * h,\n",
    "                color='0.3',\n",
    "                linewidth=1.5)\n",
    "        ax.plot(vel_rf[(vel_rf < vmin) & (vel_rf > vmax)] / 1000,\n",
    "                np.log10(fl[(vel_rf < vmin) & (vel_rf > vmax)] / norm_fac) -\n",
    "                spec_num * h,\n",
    "                alpha=0.2,\n",
    "                color='0.3')\n",
    "        vm = vel_rf[(vel_rf < vmin) & (vel_rf > vmax)][-1]\n",
    "        arg = np.abs(vel_rf_bin - vmin + (vmin - vmax) * 0.8) < 5000\n",
    "        argm = np.argmin(np.abs(vel_rf_bin - vmax))\n",
    "        if arg.sum() == 0:\n",
    "            arg = [3, 4]\n",
    "        ax.text((vmin - (vmin - vmax) * 1.04) / 1000,\n",
    "                np.log10(np.median(fl_bin[arg]) / norm_fac) -\n",
    "                (spec_num + 0.1) * h,\n",
    "                label,\n",
    "                color='0.3',\n",
    "                va='top',\n",
    "                ha='left')\n",
    "        ax.text((vm - (vm - vmax) * 0.) / 1000,\n",
    "                np.log10(fl[np.argmin(np.abs(vel_rf - vmin))] / norm_fac) -\n",
    "                (spec_num + 0.3) * h,\n",
    "                '${}$'.format(instru[spec_num]),\n",
    "                color='0.3',\n",
    "                va='center')\n",
    "        ax.set_xlim((vmax - (vmin - vmax) * 0.0765) / 1000,\n",
    "                    (vmin + (vmin - vmax) * 0.2) / 1000)\n",
    "        ax.set_ylabel(r'$\\log F_\\lambda+ \\mathrm{offset}$')\n",
    "        #plt.fill_between(vel_rf,\n",
    "        #                 fl - fl_unc, fl + fl_unc,\n",
    "        #                 alpha=0.5, color=col[k + displace])\n",
    "    ax.set_xlabel('$v\\ [10^3\\ \\mathrm{km\\,s}^{-1}]$')\n",
    "    #ax.set_yticks([])"
   ]
  },
  {
   "cell_type": "code",
   "execution_count": 41,
   "metadata": {
    "ExecuteTime": {
     "end_time": "2022-06-19T20:45:31.528461Z",
     "start_time": "2022-06-19T20:45:31.278050Z"
    }
   },
   "outputs": [
    {
     "name": "stderr",
     "output_type": "stream",
     "text": [
      "/var/folders/_g/qsrvvtv17zn3wk8jrrrfhmx80000gn/T/ipykernel_99515/357519885.py:50: RuntimeWarning: Mean of empty slice.\n",
      "  norm = fl0[np.abs(wv0 - 9000) < 500].mean()\n",
      "/Users/chang/miniconda3/envs/astron/lib/python3.10/site-packages/numpy/core/_methods.py:189: RuntimeWarning: invalid value encountered in double_scalars\n",
      "  ret = ret.dtype.type(ret / rcount)\n",
      "/var/folders/_g/qsrvvtv17zn3wk8jrrrfhmx80000gn/T/ipykernel_99515/357519885.py:79: RuntimeWarning: invalid value encountered in log10\n",
      "  np.log10(fl[(vel_rf < vmin) & (vel_rf > vmax)] / norm_fac) -\n",
      "/var/folders/_g/qsrvvtv17zn3wk8jrrrfhmx80000gn/T/ipykernel_99515/357519885.py:79: RuntimeWarning: invalid value encountered in log10\n",
      "  np.log10(fl[(vel_rf < vmin) & (vel_rf > vmax)] / norm_fac) -\n",
      "/var/folders/_g/qsrvvtv17zn3wk8jrrrfhmx80000gn/T/ipykernel_99515/357519885.py:74: RuntimeWarning: invalid value encountered in log10\n",
      "  np.log10(fl_bin[(vel_rf_bin < vmin) & (vel_rf_bin > vmax)] /\n",
      "/var/folders/_g/qsrvvtv17zn3wk8jrrrfhmx80000gn/T/ipykernel_99515/357519885.py:79: RuntimeWarning: invalid value encountered in log10\n",
      "  np.log10(fl[(vel_rf < vmin) & (vel_rf > vmax)] / norm_fac) -\n"
     ]
    },
    {
     "name": "stdout",
     "output_type": "stream",
     "text": [
      "18\n",
      "27\n",
      "15\n"
     ]
    },
    {
     "data": {
      "image/png": "[encoded data removed]",
      "text/plain": [
       "<Figure size 576x864 with 2 Axes>"
      ]
     },
     "metadata": {
      "needs_background": "light"
     },
     "output_type": "display_data"
    }
   ],
   "source": [
    "fig = plt.figure(figsize=(8, 12))\n",
    "gs = fig.add_gridspec(nrows=3,\n",
    "                      ncols=3,\n",
    "                      left=0.05,\n",
    "                      right=0.75,\n",
    "                      hspace=0,\n",
    "                      wspace=0.05)\n",
    "ax0 = fig.add_subplot(gs[:-1, :])\n",
    "ax1 = fig.add_subplot(gs[-1, :])\n",
    "\n",
    "Ca_II_IRT = (8498.018 + 8542.089 + 8662.140) / 3\n",
    "instru = [\n",
    "    r'\\mathrm{DBSP}', r'\\mathrm{LRIS}'\n",
    "]\n",
    "compare_lines(spec_files,\n",
    "              ax0,\n",
    "              line=Ca_II_IRT,\n",
    "              vmax=-40000,\n",
    "              vmin=3000,\n",
    "              phase_min=10,\n",
    "              phase_max=30,\n",
    "              norm_fac=0.65,\n",
    "              bin_size=500,\n",
    "              instru=instru,\n",
    "              phases=[-10, -5, -2, 8, 11, 18, 27, 52])\n",
    "ax0.set_ylim(-1.7, 0.5)\n",
    "ax0.set_xticks([])\n",
    "ax0.set_xlabel('')\n",
    "ax0.set_yticks([-1.5, -1, -0.5, 0, 0.5])\n",
    "ax0.text(2, -1.66, r'$\\mathbf{Ca\\ \\textsc{ii}\\ IRT}$', ha='center')\n",
    "\n",
    "HeI = 10830\n",
    "instru_He = [r'\\mathrm{MOSFIRE}']\n",
    "compare_lines(spec_He_files,\n",
    "              ax1,\n",
    "              line=HeI,\n",
    "              vmax=-40000,\n",
    "              vmin=3000,\n",
    "              phase_min=11,\n",
    "              phase_max=37,\n",
    "              norm_fac=1,\n",
    "              bin_size=750,\n",
    "              instru=instru_He,\n",
    "              phases=[15])\n",
    "ax1.set_ylim(-1.2, 0.4)\n",
    "ax0.set_yticks([])\n",
    "ax1.set_yticks([])\n",
    "#ax1.text(2, -1.15, r'$\\mathbf{He\\ \\textsc{i}\\ \\lambda 10830}$', ha='center')\n",
    "ax1.text(2,\n",
    "         -1.15,\n",
    "         r'$\\mathbf{He\\ \\textsc{i}}\\ \\mathrm{\\lambda 10830}$',\n",
    "         ha='center')\n",
    "\n",
    "ax0.axvline(-25, color='crimson', linestyle='--', linewidth=5)\n",
    "ax1.axvline(-25, color='crimson', linestyle='--', linewidth=5)\n",
    "ax1.xaxis.set_minor_locator(MultipleLocator(2.5))\n",
    "ax1.xaxis.set_major_locator(MultipleLocator(10))\n",
    "\n",
    "ax0.set_xlim(-43, 14)\n",
    "ax1.set_xlim(-43, 14)\n",
    "\n",
    "ax0.set_title('$\\mathbf{SN\\,2018byg}$')\n",
    "plt.savefig('CaII_HeI_hvf.pdf', bbox_inches='tight')"
   ]
  },
  {
   "cell_type": "code",
   "execution_count": null,
   "metadata": {},
   "outputs": [],
   "source": []
  }
 ],
 "metadata": {
  "kernelspec": {
   "display_name": "astron",
   "language": "python",
   "name": "astron"
  },
  "language_info": {
   "codemirror_mode": {
    "name": "ipython",
    "version": 3
   },
   "file_extension": ".py",
   "mimetype": "text/x-python",
   "name": "python",
   "nbconvert_exporter": "python",
   "pygments_lexer": "ipython3",
   "version": "3.10.4"
  },
  "latex_envs": {
   "LaTeX_envs_menu_present": true,
   "autoclose": false,
   "autocomplete": true,
   "bibliofile": "biblio.bib",
   "cite_by": "apalike",
   "current_citInitial": 1,
   "eqLabelWithNumbers": true,
   "eqNumInitial": 1,
   "hotkeys": {
    "equation": "Ctrl-E",
    "itemize": "Ctrl-I"
   },
   "labels_anchors": false,
   "latex_user_defs": false,
   "report_style_numbering": false,
   "user_envs_cfg": false
  }
 },
 "nbformat": 4,
 "nbformat_minor": 2
}
