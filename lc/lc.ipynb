{
 "cells": [
  {
   "cell_type": "code",
   "execution_count": 1,
   "metadata": {
    "ExecuteTime": {
     "end_time": "2022-06-18T21:03:08.201824Z",
     "start_time": "2022-06-18T21:03:07.682682Z"
    }
   },
   "outputs": [],
   "source": [
    "import numpy as np\n",
    "import matplotlib.pyplot as plt\n",
    "import pandas as pd\n",
    "\n",
    "import matplotlib as mpl\n",
    "mpl.rcParams['text.usetex'] = True\n",
    "#mpl.rcParams['font.family'] = 'times new roman'\n",
    "mpl.rcParams['font.size'] = '25'\n",
    "mpl.rcParams['xtick.labelsize'] = '25'\n",
    "mpl.rcParams['ytick.labelsize'] = '25'"
   ]
  },
  {
   "cell_type": "code",
   "execution_count": 2,
   "metadata": {
    "ExecuteTime": {
     "end_time": "2022-06-18T21:03:08.412486Z",
     "start_time": "2022-06-18T21:03:08.202957Z"
    }
   },
   "outputs": [],
   "source": [
    "from astropy.table import Table\n",
    "import astropy.units as u\n",
    "import astropy.constants as c"
   ]
  },
  {
   "cell_type": "code",
   "execution_count": 3,
   "metadata": {
    "ExecuteTime": {
     "end_time": "2022-06-18T21:03:09.012910Z",
     "start_time": "2022-06-18T21:03:08.413621Z"
    }
   },
   "outputs": [
    {
     "name": "stderr",
     "output_type": "stream",
     "text": [
      "WARNING: AstropyDeprecationWarning: The update_default_config function is deprecated and may be removed in a future version. [sncosmo]\n"
     ]
    }
   ],
   "source": [
    "import sncosmo\n",
    "from astropy.cosmology import FlatLambdaCDM\n",
    "import sys\n",
    "sys.path.append('../tools/')\n",
    "from dust_extinction import calALambda\n",
    "from data_binning import data_binning"
   ]
  },
  {
   "cell_type": "code",
   "execution_count": 4,
   "metadata": {
    "ExecuteTime": {
     "end_time": "2022-06-18T21:03:09.019614Z",
     "start_time": "2022-06-18T21:03:09.014163Z"
    }
   },
   "outputs": [
    {
     "data": {
      "text/latex": [
       "$35.644818 \\; \\mathrm{mag}$"
      ],
      "text/plain": [
       "<Quantity 35.64481825 mag>"
      ]
     },
     "execution_count": 4,
     "metadata": {},
     "output_type": "execute_result"
    }
   ],
   "source": [
    "cosmo = FlatLambdaCDM(H0=70, Om0=0.3)\n",
    "distmod = cosmo.distmod(z=0.0307)\n",
    "distmod"
   ]
  },
  {
   "cell_type": "code",
   "execution_count": 5,
   "metadata": {
    "ExecuteTime": {
     "end_time": "2022-06-18T21:03:09.815927Z",
     "start_time": "2022-06-18T21:03:09.800852Z"
    }
   },
   "outputs": [
    {
     "data": {
      "text/latex": [
       "$35.553694 \\; \\mathrm{mag}$"
      ],
      "text/plain": [
       "<Quantity 35.55369415 mag>"
      ]
     },
     "execution_count": 5,
     "metadata": {},
     "output_type": "execute_result"
    }
   ],
   "source": [
    "cosmo = FlatLambdaCDM(H0=73, Om0=0.3)\n",
    "distmod = cosmo.distmod(z=0.0307)\n",
    "distmod"
   ]
  },
  {
   "cell_type": "code",
   "execution_count": 6,
   "metadata": {
    "ExecuteTime": {
     "end_time": "2022-06-18T21:03:10.962259Z",
     "start_time": "2022-06-18T21:03:10.951810Z"
    }
   },
   "outputs": [
    {
     "data": {
      "text/plain": [
       "(9203.6284606, 9062.417326687751)"
      ]
     },
     "execution_count": 6,
     "metadata": {},
     "output_type": "execute_result"
    }
   ],
   "source": [
    "z = 0.0307\n",
    "beta1 = z\n",
    "beta2 = ((1 + z)**2 - 1) / ((1 + z)**2 + 1)\n",
    "beta1 * 299792.458, beta2 * 299792.458"
   ]
  },
  {
   "cell_type": "code",
   "execution_count": 7,
   "metadata": {
    "ExecuteTime": {
     "end_time": "2022-06-18T21:03:13.902886Z",
     "start_time": "2022-06-18T21:03:13.890216Z"
    }
   },
   "outputs": [
    {
     "data": {
      "text/latex": [
       "$35.66961 \\; \\mathrm{mag}$"
      ],
      "text/plain": [
       "<Quantity 35.6696097 mag>"
      ]
     },
     "execution_count": 7,
     "metadata": {},
     "output_type": "execute_result"
    }
   ],
   "source": [
    "DL = np.loadtxt('20jgb_peculiar.dat')[6]  #H0 = 70\n",
    "distmod = 5 * np.log10(DL * 1e6 / 10) * u.mag\n",
    "distmod"
   ]
  },
  {
   "cell_type": "code",
   "execution_count": 8,
   "metadata": {
    "ExecuteTime": {
     "end_time": "2022-06-18T21:03:32.780129Z",
     "start_time": "2022-06-18T21:03:32.770207Z"
    }
   },
   "outputs": [
    {
     "data": {
      "text/plain": [
       "(1.5169161472474595, 1.0017554354796696)"
      ]
     },
     "execution_count": 8,
     "metadata": {},
     "output_type": "execute_result"
    }
   ],
   "source": [
    "leff_g = 4722.74  #AA\n",
    "leff_r = 6339.61  #AA\n",
    "rv = 3.1\n",
    "ebv = 0.404\n",
    "calALambda(leff_g, rv, ebv), calALambda(leff_r, rv, ebv)"
   ]
  },
  {
   "cell_type": "code",
   "execution_count": 9,
   "metadata": {
    "ExecuteTime": {
     "end_time": "2022-06-18T21:03:33.759857Z",
     "start_time": "2022-06-18T21:03:33.719442Z"
    }
   },
   "outputs": [],
   "source": [
    "lc = Table.read('ZTF20aayhacx_fnu.csv')\n",
    "lc['mjd'] = lc['jd'] - 2400000.5\n",
    "lc['mag'] = np.zeros_like(lc['mjd'])\n",
    "lc['mag_unc'] = np.zeros_like(lc['mjd'])\n",
    "lc = lc[np.where((lc['mjd'] > 58950) & (lc['mjd'] < 59100))]\n",
    "\n",
    "lc_g = lc[lc['passband'] == 'ZTF_g']\n",
    "lc_r = lc[lc['passband'] == 'ZTF_r']\n",
    "lc_g['fnu_microJy'] = lc_g['fnu_microJy']\n",
    "lc_g['fnu_microJy_uncmicroJy'] = lc_g['fnu_microJy_unc']\n",
    "lc_r['fnu_microJy'] = lc_r['fnu_microJy']\n",
    "lc_r['fnu_microJy_uncmicroJy'] = lc_r['fnu_microJy_unc']\n",
    "\n",
    "g_bin = data_binning(\n",
    "    np.array([lc_g['mjd'], lc_g['fnu_microJy'], lc_g['fnu_microJy_unc']]).T,\n",
    "    1)\n",
    "lc_g = dict({\n",
    "    'mjd': g_bin[:, 0],\n",
    "    'fnu_microJy': g_bin[:, 1],\n",
    "    'fnu_microJy_unc': g_bin[:, 2],\n",
    "    'mag': np.empty_like(g_bin[:, 0]),\n",
    "    'mag_unc': np.empty_like(g_bin[:, 0]),\n",
    "    'mag_unc_l': np.empty_like(g_bin[:, 0]),\n",
    "    'mag_unc_r': np.empty_like(g_bin[:, 0])\n",
    "})\n",
    "r_bin = data_binning(\n",
    "    np.array([lc_r['mjd'], lc_r['fnu_microJy'], lc_r['fnu_microJy_unc']]).T,\n",
    "    1)\n",
    "lc_r = dict({\n",
    "    'mjd': r_bin[:, 0],\n",
    "    'fnu_microJy': r_bin[:, 1],\n",
    "    'fnu_microJy_unc': r_bin[:, 2],\n",
    "    'mag': np.empty_like(r_bin[:, 0]),\n",
    "    'mag_unc': np.empty_like(r_bin[:, 0]),\n",
    "    'mag_unc_l': np.empty_like(r_bin[:, 0]),\n",
    "    'mag_unc_r': np.empty_like(r_bin[:, 0])\n",
    "})\n",
    "\n",
    "snr_lim = 2\n",
    "argg1 = lc_g['fnu_microJy'] > lc_g['fnu_microJy_unc'] * snr_lim\n",
    "argg2 = lc_g['fnu_microJy'] <= lc_g['fnu_microJy_unc'] * snr_lim\n",
    "argr1 = lc_r['fnu_microJy'] > lc_r['fnu_microJy_unc'] * snr_lim\n",
    "argr2 = lc_r['fnu_microJy'] <= lc_r['fnu_microJy_unc'] * snr_lim"
   ]
  },
  {
   "cell_type": "code",
   "execution_count": 10,
   "metadata": {
    "ExecuteTime": {
     "end_time": "2022-06-18T21:03:34.477029Z",
     "start_time": "2022-06-18T21:03:34.459386Z"
    }
   },
   "outputs": [],
   "source": [
    "arg = lc['fnu_microJy'] > lc['fnu_microJy_unc'] * snr_lim\n",
    "time = lc[arg]['mjd']\n",
    "flux = lc[arg]['fnu_microJy']\n",
    "fluxerr = lc[arg]['fnu_microJy_unc']\n",
    "zp = np.ones_like(time) * 23.9  #AB magnitude for 1 micro Jansky\n",
    "zpsys = ['ab' for i in range(len(time))]\n",
    "\n",
    "\n",
    "def passband(b):\n",
    "    if b == 'ZTF_g':\n",
    "        return 'ztfg'\n",
    "    if b == 'ZTF_r':\n",
    "        return 'ztfr'\n",
    "    if b == 'ZTF_i':\n",
    "        return 'ztfi'\n",
    "\n",
    "\n",
    "band = [passband(b) for b in lc[arg]['passband']]\n",
    "data = Table([time, band, flux, fluxerr, zp, zpsys],\n",
    "             names=['time', 'band', 'flux', 'fluxerr', 'zp', 'zpsys'])"
   ]
  },
  {
   "cell_type": "code",
   "execution_count": 11,
   "metadata": {
    "ExecuteTime": {
     "end_time": "2022-06-18T21:03:35.052578Z",
     "start_time": "2022-06-18T21:03:35.034391Z"
    }
   },
   "outputs": [],
   "source": [
    "lc_g['mag'][argg1] = -2.5 * np.log10(\n",
    "    lc_g['fnu_microJy'][argg1]) + 23.9 - distmod.value - calALambda(\n",
    "        leff_g, rv, ebv)\n",
    "lc_g['mag'][argg2] = -2.5 * np.log10(\n",
    "    lc_g['fnu_microJy_unc'][argg2] * 5) + 23.9 - distmod.value - calALambda(\n",
    "        leff_g, rv, ebv)\n",
    "lc_g['mag_unc'][argg1] = -2.5 * np.log10(\n",
    "    (lc_g['fnu_microJy'][argg1] - lc_g['fnu_microJy_unc'][argg1]) /\n",
    "    (lc_g['fnu_microJy'][argg1] + lc_g['fnu_microJy_unc'][argg1])) / 2\n",
    "lc_g['mag_unc_l'][argg1] = -2.5 * np.log10(\n",
    "    (lc_g['fnu_microJy'][argg1] - lc_g['fnu_microJy_unc'][argg1]) /\n",
    "    (lc_g['fnu_microJy'][argg1]))\n",
    "lc_g['mag_unc_r'][argg1] = -2.5 * np.log10(\n",
    "    (lc_g['fnu_microJy'][argg1]) /\n",
    "    (lc_g['fnu_microJy'][argg1] + lc_g['fnu_microJy_unc'][argg1]))\n",
    "lc_g['mag_unc'][argg2] = -999\n",
    "lc_g['mag_unc_l'][argg2] = -999\n",
    "lc_g['mag_unc_r'][argg2] = -999\n",
    "\n",
    "lc_r['mag'][argr1] = -2.5 * np.log10(\n",
    "    lc_r['fnu_microJy'][argr1]) + 23.9 - distmod.value - calALambda(\n",
    "        leff_r, rv, ebv)\n",
    "lc_r['mag'][argr2] = -2.5 * np.log10(\n",
    "    lc_r['fnu_microJy_unc'][argr2] * 5) + 23.9 - distmod.value - calALambda(\n",
    "        leff_r, rv, ebv)\n",
    "lc_r['mag_unc'][argr1] = -2.5 * np.log10(\n",
    "    (lc_r['fnu_microJy'][argr1] - lc_r['fnu_microJy_unc'][argr1]) /\n",
    "    (lc_r['fnu_microJy'][argr1] + lc_r['fnu_microJy_unc'][argr1])) / 2\n",
    "lc_r['mag_unc_l'][argr1] = -2.5 * np.log10(\n",
    "    (lc_r['fnu_microJy'][argr1] - lc_r['fnu_microJy_unc'][argr1]) /\n",
    "    (lc_r['fnu_microJy'][argr1]))\n",
    "lc_r['mag_unc_r'][argr1] = -2.5 * np.log10(\n",
    "    (lc_r['fnu_microJy'][argr1]) /\n",
    "    (lc_r['fnu_microJy'][argr1] + lc_r['fnu_microJy_unc'][argr1]))\n",
    "lc_r['mag_unc'][argr2] = -999\n",
    "lc_r['mag_unc_l'][argr2] = -999\n",
    "lc_r['mag_unc_r'][argr2] = -999"
   ]
  },
  {
   "cell_type": "code",
   "execution_count": 12,
   "metadata": {
    "ExecuteTime": {
     "end_time": "2022-06-18T21:03:37.022344Z",
     "start_time": "2022-06-18T21:03:35.881417Z"
    },
    "scrolled": false
   },
   "outputs": [
    {
     "data": {
      "text/plain": [
       "Text(0, 0.5, '$\\\\mathrm{Absolute\\\\ Magnitude}$')"
      ]
     },
     "execution_count": 12,
     "metadata": {},
     "output_type": "execute_result"
    },
    {
     "data": {
      "image/png": "[encoded data removed]",
      "text/plain": [
       "<Figure size 864x864 with 1 Axes>"
      ]
     },
     "metadata": {
      "needs_background": "light"
     },
     "output_type": "display_data"
    }
   ],
   "source": [
    "tp = 58986.41\n",
    "\n",
    "plt.figure(figsize=(12, 12))\n",
    "plt.errorbar((lc_g['mjd'][argg1] - tp) / (1 + z),\n",
    "             lc_g['mag'][argg1] + 1,\n",
    "             yerr=[lc_g['mag_unc_r'][argg1], lc_g['mag_unc_l'][argg1]],\n",
    "             fmt='o',\n",
    "             markersize=10,\n",
    "             capsize=3,\n",
    "             markeredgecolor='k',\n",
    "             markeredgewidth=.5,\n",
    "             color='darkgreen',\n",
    "             label='$\\mathrm{ZTF}\\ g+1$')\n",
    "plt.scatter((lc_g['mjd'][argg2] - tp) / (1 + z),\n",
    "            lc_g['mag'][argg2] + 1,\n",
    "            marker='v',\n",
    "            color='darkgreen',\n",
    "            alpha=0.5)\n",
    "plt.errorbar((lc_r['mjd'][argr1] - tp) / (1 + z),\n",
    "             lc_r['mag'][argr1],\n",
    "             yerr=[lc_r['mag_unc_r'][argr1], lc_r['mag_unc_l'][argr1]],\n",
    "             fmt='o',\n",
    "             markersize=10,\n",
    "             capsize=3,\n",
    "             markeredgecolor='k',\n",
    "             markeredgewidth=.5,\n",
    "             color='crimson',\n",
    "             label='$\\mathrm{ZTF}\\ r$')\n",
    "plt.scatter((lc_r['mjd'][argr2] - tp) / (1 + z),\n",
    "            lc_r['mag'][argr2],\n",
    "            marker='v',\n",
    "            color='crimson',\n",
    "            alpha=0.5)\n",
    "plt.ylim(-19, -13)\n",
    "plt.xlim(-35, 70)\n",
    "plt.legend()\n",
    "plt.gca().invert_yaxis()\n",
    "plt.xlabel(r'$\\mathrm{MJD\\ [d]}$')\n",
    "plt.ylabel(r'$\\mathrm{Absolute\\ Magnitude}$')"
   ]
  },
  {
   "cell_type": "code",
   "execution_count": 13,
   "metadata": {
    "ExecuteTime": {
     "end_time": "2022-06-18T21:03:39.566119Z",
     "start_time": "2022-06-18T21:03:39.550534Z"
    }
   },
   "outputs": [],
   "source": [
    "# mjd, mag, mag_unc\n",
    "# upper limits: mag = 5sigma, mag_unc = -999\n",
    "X = np.array([lc_g['mjd'], lc_g['mag'], lc_g['mag_unc'], lc_g['mag_unc_r'], lc_g['mag_unc_l']]).T\n",
    "np.savetxt('SN2020jgb_ZTF_g_snr{:.0f}.dat'.format(snr_lim), X, fmt='%.5f')\n",
    "Y = np.array([lc_r['mjd'], lc_r['mag'], lc_r['mag_unc'], lc_r['mag_unc_r'], lc_r['mag_unc_l']]).T\n",
    "np.savetxt('SN2020jgb_ZTF_r_snr{:.0f}.dat'.format(snr_lim), Y, fmt='%.5f')"
   ]
  },
  {
   "cell_type": "markdown",
   "metadata": {},
   "source": [
    "# SALT2 Fit"
   ]
  },
  {
   "cell_type": "code",
   "execution_count": 15,
   "metadata": {
    "ExecuteTime": {
     "end_time": "2022-06-18T21:04:01.369793Z",
     "start_time": "2022-06-18T21:04:01.111020Z"
    }
   },
   "outputs": [],
   "source": [
    "# create a model\n",
    "dust = sncosmo.CCM89Dust()\n",
    "model = sncosmo.Model(source='salt2',\n",
    "                      effects=[dust, dust],\n",
    "                      effect_names=['host', 'mw'],\n",
    "                      effect_frames=['rest', 'obs'])\n",
    "\n",
    "# set the model's redshift\n",
    "model.set(z=0.0307)\n",
    "\n",
    "# set the model's galactic extinction\n",
    "model.set(mwebv=0.404)\n",
    "# run the fit\n",
    "result, fitted_model = sncosmo.fit_lc(\n",
    "    data, model, ['t0', 'x0', 'x1', 'c'])  # parameters of model to vary"
   ]
  },
  {
   "cell_type": "code",
   "execution_count": 14,
   "metadata": {
    "ExecuteTime": {
     "end_time": "2022-05-14T20:41:18.556132Z",
     "start_time": "2022-05-14T20:41:18.552795Z"
    }
   },
   "outputs": [
    {
     "name": "stdout",
     "output_type": "stream",
     "text": [
      "Number of chi^2 function calls: 115\n",
      "Number of degrees of freedom in fit: 23\n",
      "chi^2 value at minimum: 258.46125029926515\n",
      "model parameters: ['z', 't0', 'x0', 'x1', 'c', 'hostebv', 'hostr_v', 'mwebv', 'mwr_v']\n",
      "best-fit values: [ 3.07000000e-02  5.89836274e+04  1.55109805e-03 -1.04788711e+00\n",
      "  4.24784600e-01  0.00000000e+00  3.10000000e+00  4.04000000e-01\n",
      "  3.10000000e+00]\n",
      "The result contains the following attributes:\n",
      " dict_keys(['success', 'message', 'ncall', 'chisq', 'ndof', 'param_names', 'parameters', 'vparam_names', 'covariance', 'errors', 'nfit', 'data_mask'])\n"
     ]
    }
   ],
   "source": [
    "print(\"Number of chi^2 function calls:\", result.ncall)\n",
    "print(\"Number of degrees of freedom in fit:\", result.ndof)\n",
    "print(\"chi^2 value at minimum:\", result.chisq)\n",
    "print(\"model parameters:\", result.param_names)\n",
    "print(\"best-fit values:\", result.parameters)\n",
    "print(\"The result contains the following attributes:\\n\", result.keys())"
   ]
  },
  {
   "cell_type": "code",
   "execution_count": 16,
   "metadata": {
    "ExecuteTime": {
     "end_time": "2022-06-18T21:04:08.042310Z",
     "start_time": "2022-06-18T21:04:03.334232Z"
    }
   },
   "outputs": [
    {
     "data": {
      "image/png": "[encoded data removed]",
      "text/plain": [
       "<Figure size 1440x628.2 with 4 Axes>"
      ]
     },
     "metadata": {
      "needs_background": "light"
     },
     "output_type": "display_data"
    }
   ],
   "source": [
    "sncosmo.plot_lc(data, model=fitted_model, errors=result.errors, zp=23.9, xfigsize=20);"
   ]
  },
  {
   "cell_type": "code",
   "execution_count": null,
   "metadata": {},
   "outputs": [],
   "source": []
  }
 ],
 "metadata": {
  "kernelspec": {
   "display_name": "astron",
   "language": "python",
   "name": "astron"
  },
  "language_info": {
   "codemirror_mode": {
    "name": "ipython",
    "version": 3
   },
   "file_extension": ".py",
   "mimetype": "text/x-python",
   "name": "python",
   "nbconvert_exporter": "python",
   "pygments_lexer": "ipython3",
   "version": "3.10.4"
  },
  "latex_envs": {
   "LaTeX_envs_menu_present": true,
   "autoclose": false,
   "autocomplete": true,
   "bibliofile": "biblio.bib",
   "cite_by": "apalike",
   "current_citInitial": 1,
   "eqLabelWithNumbers": true,
   "eqNumInitial": 1,
   "hotkeys": {
    "equation": "Ctrl-E",
    "itemize": "Ctrl-I"
   },
   "labels_anchors": false,
   "latex_user_defs": false,
   "report_style_numbering": false,
   "user_envs_cfg": false
  }
 },
 "nbformat": 4,
 "nbformat_minor": 4
}
