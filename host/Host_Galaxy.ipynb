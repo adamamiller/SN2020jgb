{
 "cells": [
  {
   "cell_type": "code",
   "execution_count": 1,
   "id": "20c2a590",
   "metadata": {
    "ExecuteTime": {
     "end_time": "2022-01-10T05:17:21.098956Z",
     "start_time": "2022-01-10T05:17:19.917995Z"
    }
   },
   "outputs": [],
   "source": [
    "import numpy as np\n",
    "import matplotlib.pyplot as plt\n",
    "import pandas as pd\n",
    "import glob\n",
    "import matplotlib as mpl\n",
    "mpl.rcParams['text.usetex'] = True\n",
    "plt.rcParams['font.family'] = 'sans-serif'\n",
    "plt.rcParams['font.sans-serif'] = ['Ariel']\n",
    "mpl.rcParams['font.size'] = '25'\n",
    "mpl.rcParams['xtick.labelsize'] = '20'\n",
    "mpl.rcParams['ytick.labelsize'] = '20'"
   ]
  },
  {
   "cell_type": "code",
   "execution_count": 2,
   "id": "d38369f5",
   "metadata": {
    "ExecuteTime": {
     "end_time": "2022-01-10T05:17:21.324030Z",
     "start_time": "2022-01-10T05:17:21.099930Z"
    }
   },
   "outputs": [],
   "source": [
    "from astropy.table import Table\n",
    "from astropy.io import fits\n",
    "import astropy.units as u\n",
    "import astropy.constants as c"
   ]
  },
  {
   "cell_type": "code",
   "execution_count": 3,
   "id": "44509281",
   "metadata": {
    "ExecuteTime": {
     "end_time": "2022-01-10T05:17:23.276731Z",
     "start_time": "2022-01-10T05:17:21.324793Z"
    }
   },
   "outputs": [],
   "source": [
    "data = Table.read('galSpecExtra-dr8.fits')\n",
    "data = data[data['PLATEID'] > 0]\n",
    "data_tot = data[data['LGM_TOT_P50'] > -9999]\n",
    "data_tot = data_tot[data_tot['SPECSFR_TOT_P50'] > -9999]"
   ]
  },
  {
   "cell_type": "code",
   "execution_count": 4,
   "id": "540a3508",
   "metadata": {
    "ExecuteTime": {
     "end_time": "2022-01-10T05:17:23.514071Z",
     "start_time": "2022-01-10T05:17:23.278431Z"
    }
   },
   "outputs": [],
   "source": [
    "import seaborn as sns"
   ]
  },
  {
   "cell_type": "code",
   "execution_count": 9,
   "id": "3dd1327b",
   "metadata": {
    "ExecuteTime": {
     "end_time": "2022-01-10T05:20:28.859672Z",
     "start_time": "2022-01-10T05:20:25.872404Z"
    }
   },
   "outputs": [
    {
     "data": {
      "image/png": "[encoded data removed]",
      "text/plain": [
       "<Figure size 576x576 with 1 Axes>"
      ]
     },
     "metadata": {
      "needs_background": "light"
     },
     "output_type": "display_data"
    }
   ],
   "source": [
    "byg = data_tot[data_tot['SPECOBJID'] == '1633681641756977152']\n",
    "jhr = data_tot[data_tot['SPECOBJID'] == '324379878126282752 ']\n",
    "\n",
    "plt.figure(figsize=(8, 8))\n",
    "ax = sns.kdeplot(x=np.array(data_tot['LGM_TOT_P50'][::100], dtype='f4'),\n",
    "                 y=np.array(data_tot['SPECSFR_TOT_P50'][::100], dtype='f4'),\n",
    "                 shade=True,\n",
    "                 cmap=\"Greys\", levels=10)\n",
    "ax.patch.set_facecolor('white')\n",
    "ax.collections[0].set_alpha(0)\n",
    "ax.set_xlabel('$\\lg(M/M_\\odot)$')\n",
    "ax.set_ylabel('$\\lg(\\mathrm{sSFR/yr})$')\n",
    "plt.errorbar(byg['LGM_FIB_P50'],\n",
    "             byg['SPECSFR_FIB_P50'],\n",
    "             fmt='o',\n",
    "             capsize=5,\n",
    "             xerr=[\n",
    "                 byg['LGM_TOT_P50'] - byg['LGM_TOT_P16'],\n",
    "                 byg['LGM_TOT_P84'] - byg['LGM_TOT_P50']\n",
    "             ],\n",
    "             yerr=[\n",
    "                 byg['SPECSFR_TOT_P50'] - byg['SPECSFR_TOT_P16'],\n",
    "                 byg['SPECSFR_TOT_P84'] - byg['SPECSFR_TOT_P50']\n",
    "             ],\n",
    "             color='crimson',\n",
    "             label='$\\mathrm{SN\\ 2018byg}$')\n",
    "plt.errorbar(jhr['LGM_FIB_P50'],\n",
    "             jhr['SPECSFR_FIB_P50'],\n",
    "             fmt='o',\n",
    "             capsize=5,\n",
    "             xerr=[\n",
    "                 jhr['LGM_TOT_P50'] - jhr['LGM_TOT_P16'],\n",
    "                 jhr['LGM_TOT_P84'] - jhr['LGM_TOT_P50']\n",
    "             ],\n",
    "             yerr=[\n",
    "                 jhr['SPECSFR_TOT_P50'] - jhr['SPECSFR_TOT_P16'],\n",
    "                 jhr['SPECSFR_TOT_P84'] - jhr['SPECSFR_TOT_P50']\n",
    "             ],\n",
    "             color='orange',\n",
    "             label='$\\mathrm{SN\\ 2016jhr}$')\n",
    "plt.legend()\n",
    "plt.xlim(8, 13)\n",
    "plt.ylim(-14, -8)\n",
    "plt.show()"
   ]
  },
  {
   "cell_type": "code",
   "execution_count": null,
   "id": "2620a9c9",
   "metadata": {},
   "outputs": [],
   "source": []
  }
 ],
 "metadata": {
  "kernelspec": {
   "display_name": "Python 3 (ipykernel)",
   "language": "python",
   "name": "python3"
  },
  "language_info": {
   "codemirror_mode": {
    "name": "ipython",
    "version": 3
   },
   "file_extension": ".py",
   "mimetype": "text/x-python",
   "name": "python",
   "nbconvert_exporter": "python",
   "pygments_lexer": "ipython3",
   "version": "3.9.7"
  }
 },
 "nbformat": 4,
 "nbformat_minor": 5
}
