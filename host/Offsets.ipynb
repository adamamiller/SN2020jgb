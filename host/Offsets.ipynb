{
 "cells": [
  {
   "cell_type": "code",
   "execution_count": 78,
   "id": "1b84d533",
   "metadata": {
    "ExecuteTime": {
     "end_time": "2022-06-18T22:36:24.149674Z",
     "start_time": "2022-06-18T22:36:24.128522Z"
    }
   },
   "outputs": [],
   "source": [
    "import numpy as np\n",
    "import matplotlib.pyplot as plt\n",
    "import pandas as pd\n",
    "import glob\n",
    "import matplotlib as mpl\n",
    "mpl.rcParams['text.usetex'] = True\n",
    "plt.rcParams['font.family'] = 'sans-serif'\n",
    "plt.rcParams['font.sans-serif'] = ['Ariel']\n",
    "mpl.rcParams['font.size'] = '25'\n",
    "mpl.rcParams['xtick.labelsize'] = '25'\n",
    "mpl.rcParams['ytick.labelsize'] = '25'"
   ]
  },
  {
   "cell_type": "code",
   "execution_count": 4,
   "id": "fd76bc31",
   "metadata": {
    "ExecuteTime": {
     "end_time": "2022-06-18T19:12:58.094098Z",
     "start_time": "2022-06-18T19:12:58.086842Z"
    }
   },
   "outputs": [],
   "source": [
    "from astropy.table import Table\n",
    "from astropy.io import fits\n",
    "import astropy.units as u\n",
    "import astropy.constants as c\n",
    "from astropy.coordinates import SkyCoord"
   ]
  },
  {
   "cell_type": "code",
   "execution_count": 3,
   "id": "af792fce",
   "metadata": {
    "ExecuteTime": {
     "end_time": "2022-06-18T19:09:50.336698Z",
     "start_time": "2022-06-18T19:09:50.326905Z"
    }
   },
   "outputs": [],
   "source": [
    "color_map = {\n",
    "    'cyan': '#66c2a5',\n",
    "    'orange': '#ff7f00',\n",
    "    'blue': '#8da0cb',\n",
    "    'purple': '#7570b3',\n",
    "    'pink': '#fccde5',\n",
    "    'green': '#33a02c',\n",
    "    'yellow': '#ffd92f',\n",
    "    'brown': '#e5c494',\n",
    "    'magenta': '#f1598a',\n",
    "    'grey': '0.3',\n",
    "    'deeppurple': '#984ea3',\n",
    "    'deepblue': '#377eb8'\n",
    "}"
   ]
  },
  {
   "cell_type": "code",
   "execution_count": 16,
   "id": "b78357d2",
   "metadata": {
    "ExecuteTime": {
     "end_time": "2022-06-18T20:39:28.914621Z",
     "start_time": "2022-06-18T20:39:28.711466Z"
    }
   },
   "outputs": [],
   "source": [
    "from astropy.cosmology import FlatLambdaCDM\n",
    "cosmo = FlatLambdaCDM(H0=70, Om0=0.3)"
   ]
  },
  {
   "cell_type": "code",
   "execution_count": 43,
   "id": "c62e1d29",
   "metadata": {
    "ExecuteTime": {
     "end_time": "2022-06-18T22:20:09.393645Z",
     "start_time": "2022-06-18T22:20:09.383772Z"
    }
   },
   "outputs": [],
   "source": [
    "hist = np.empty(8)"
   ]
  },
  {
   "cell_type": "code",
   "execution_count": 44,
   "id": "5da34694",
   "metadata": {
    "ExecuteTime": {
     "end_time": "2022-06-18T22:20:47.624289Z",
     "start_time": "2022-06-18T22:20:47.604163Z"
    }
   },
   "outputs": [
    {
     "name": "stdout",
     "output_type": "stream",
     "text": [
      "128.05 126.67738725500004 Mpc\n",
      "0.18588713789806133\n"
     ]
    }
   ],
   "source": [
    "# 20jgb\n",
    "coord_host = SkyCoord(268.302773100, -0.856122240, unit=\"deg\")\n",
    "coord = SkyCoord(268.3027999, -0.8560435, unit=\"deg\")\n",
    "D_A = np.loadtxt('../lc/20jgb_peculiar.dat')[7]  #H0 = 70\n",
    "D_A0 = cosmo.angular_diameter_distance(z=0.0307)\n",
    "print(D_A, D_A0)\n",
    "print(coord_host.separation(coord).to(\"rad\").value * (\n",
    "    D_A * 1e3))\n",
    "hist[0] = coord_host.separation(coord).to(\"rad\").value * (\n",
    "    D_A * 1e3)"
   ]
  },
  {
   "cell_type": "code",
   "execution_count": 46,
   "id": "00782180",
   "metadata": {
    "ExecuteTime": {
     "end_time": "2022-06-18T22:22:04.686036Z",
     "start_time": "2022-06-18T22:22:04.665788Z"
    }
   },
   "outputs": [
    {
     "name": "stdout",
     "output_type": "stream",
     "text": [
      "265.67 262.4057484875611 Mpc\n",
      "22.257292614513197\n"
     ]
    }
   ],
   "source": [
    "# 18byg\n",
    "coord_host = SkyCoord(185.846751145, 46.602961169, unit=\"deg\")\n",
    "coord = SkyCoord(185.839837, 46.602272, unit=\"deg\")\n",
    "D_A = np.loadtxt('../lc/18byg_peculiar.dat')[7]  #H0 = 70\n",
    "D_A0 = cosmo.angular_diameter_distance(z=0.06633826)\n",
    "print(D_A, D_A0)\n",
    "print(coord_host.separation(coord).to(\"rad\").value * (D_A * 1e3))\n",
    "hist[1] = coord_host.separation(coord).to(\"rad\").value * (\n",
    "    D_A * 1e3)"
   ]
  },
  {
   "cell_type": "code",
   "execution_count": 47,
   "id": "a05e0c48",
   "metadata": {
    "ExecuteTime": {
     "end_time": "2022-06-18T22:22:58.020721Z",
     "start_time": "2022-06-18T22:22:58.002526Z"
    }
   },
   "outputs": [
    {
     "name": "stdout",
     "output_type": "stream",
     "text": [
      "11.437957058181466\n"
     ]
    }
   ],
   "source": [
    "# 16jhr\n",
    "coord_host = SkyCoord(184.583692267, 0.255956159, unit=\"deg\")\n",
    "coord = SkyCoord(184.582708, 0.254828, unit=\"deg\")\n",
    "D_A = cosmo.angular_diameter_distance(z=0.11737).to('kpc').value\n",
    "print(coord_host.separation(coord).to(\"rad\").value * D_A)\n",
    "hist[2] = coord_host.separation(coord).to(\"rad\").value * D_A"
   ]
  },
  {
   "cell_type": "code",
   "execution_count": 74,
   "id": "cadef89d",
   "metadata": {
    "ExecuteTime": {
     "end_time": "2022-06-18T22:34:21.537336Z",
     "start_time": "2022-06-18T22:34:21.518059Z"
    }
   },
   "outputs": [
    {
     "name": "stdout",
     "output_type": "stream",
     "text": [
      "124.74 124.90387837709304 Mpc\n",
      "10.986948095145666\n"
     ]
    }
   ],
   "source": [
    "# 19ofm\n",
    "coord_host = SkyCoord(222.730961705, 27.578530628, unit=\"deg\")\n",
    "coord = SkyCoord(222.72762123333, 27.5826173, unit=\"deg\")\n",
    "D_A = np.loadtxt('../lc/19ofm_peculiar.dat')[7]\n",
    "D_A0 = cosmo.angular_diameter_distance(z=0.030254)\n",
    "print(D_A, D_A0)\n",
    "print(coord_host.separation(coord).to(\"rad\").value * D_A * 1e3)\n",
    "hist[3] = coord_host.separation(coord).to(\"rad\").value * D_A * 1e3"
   ]
  },
  {
   "cell_type": "code",
   "execution_count": 86,
   "id": "18833b18",
   "metadata": {
    "ExecuteTime": {
     "end_time": "2022-06-18T22:47:20.402980Z",
     "start_time": "2022-06-18T22:47:20.383188Z"
    }
   },
   "outputs": [
    {
     "name": "stdout",
     "output_type": "stream",
     "text": [
      "65.52 67.61306069116021 Mpc\n",
      "3.9726543779278174\n"
     ]
    }
   ],
   "source": [
    "# 16hnk\n",
    "coord_host = SkyCoord(33.315839646, -7.661854477, unit=\"deg\")\n",
    "coord = SkyCoord(33.3193, -7.6613, unit=\"deg\")\n",
    "D_A0 = cosmo.angular_diameter_distance(z=0.01610)\n",
    "D_A = np.loadtxt('../lc/16hnk_peculiar.dat')[7]  #H0 = 70\n",
    "print(D_A, D_A0)\n",
    "print(coord_host.separation(coord).to(\"rad\").value * D_A * 1e3)\n",
    "hist[4] = coord_host.separation(coord).to(\"rad\").value * D_A * 1e3"
   ]
  },
  {
   "cell_type": "code",
   "execution_count": 67,
   "id": "73d80263",
   "metadata": {
    "ExecuteTime": {
     "end_time": "2022-06-18T22:33:11.844521Z",
     "start_time": "2022-06-18T22:33:11.824430Z"
    }
   },
   "outputs": [
    {
     "name": "stdout",
     "output_type": "stream",
     "text": [
      "22.62118301298929\n"
     ]
    }
   ],
   "source": [
    "# 18aoz\n",
    "coord_host = SkyCoord(177.757059, -28.806017, unit=\"deg\")\n",
    "coord = SkyCoord(177.757625, -28.744064, unit=\"deg\")\n",
    "D_A = np.loadtxt('../lc/18aoz_peculiar.dat')[7]  #H0 = 70\n",
    "print(coord_host.separation(coord).to(\"rad\").value * D_A * 1e3)\n",
    "hist[5] = coord_host.separation(coord).to(\"rad\").value * D_A * 1e3"
   ]
  },
  {
   "cell_type": "code",
   "execution_count": 68,
   "id": "d9259c27",
   "metadata": {
    "ExecuteTime": {
     "end_time": "2022-06-18T22:33:12.255432Z",
     "start_time": "2022-06-18T22:33:12.249041Z"
    }
   },
   "outputs": [],
   "source": [
    "hist[6] = 15.4 # SN 2016dsg\n",
    "hist[7] = 45 # OGLE-013-SN-079"
   ]
  },
  {
   "cell_type": "code",
   "execution_count": 88,
   "id": "ddacac0c",
   "metadata": {
    "ExecuteTime": {
     "end_time": "2022-06-18T22:50:19.529490Z",
     "start_time": "2022-06-18T22:50:19.426630Z"
    }
   },
   "outputs": [
    {
     "data": {
      "text/plain": [
       "Text(0, 0.5, 'Cumulative fraction')"
      ]
     },
     "execution_count": 88,
     "metadata": {},
     "output_type": "execute_result"
    },
    {
     "data": {
      "image/png": "[encoded data removed]",
      "text/plain": [
       "<Figure size 576x576 with 1 Axes>"
      ]
     },
     "metadata": {
      "needs_background": "light"
     },
     "output_type": "display_data"
    }
   ],
   "source": [
    "plt.figure(figsize=(8, 8))\n",
    "plt.hist(np.log10(hist[:]), histtype='step', cumulative=True, density=True)\n",
    "#plt.xscale('log')\n",
    "plt.xlim(-1, 2)\n",
    "plt.xlabel('logrithmic physical offset (kpc)')\n",
    "plt.ylabel('Cumulative fraction')"
   ]
  },
  {
   "cell_type": "code",
   "execution_count": null,
   "id": "b959f233",
   "metadata": {},
   "outputs": [],
   "source": []
  }
 ],
 "metadata": {
  "kernelspec": {
   "display_name": "astron",
   "language": "python",
   "name": "astron"
  },
  "language_info": {
   "codemirror_mode": {
    "name": "ipython",
    "version": 3
   },
   "file_extension": ".py",
   "mimetype": "text/x-python",
   "name": "python",
   "nbconvert_exporter": "python",
   "pygments_lexer": "ipython3",
   "version": "3.10.4"
  },
  "latex_envs": {
   "LaTeX_envs_menu_present": true,
   "autoclose": false,
   "autocomplete": true,
   "bibliofile": "biblio.bib",
   "cite_by": "apalike",
   "current_citInitial": 1,
   "eqLabelWithNumbers": true,
   "eqNumInitial": 1,
   "hotkeys": {
    "equation": "Ctrl-E",
    "itemize": "Ctrl-I"
   },
   "labels_anchors": false,
   "latex_user_defs": false,
   "report_style_numbering": false,
   "user_envs_cfg": false
  }
 },
 "nbformat": 4,
 "nbformat_minor": 5
}
